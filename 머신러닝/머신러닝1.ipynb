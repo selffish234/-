{
 "cells": [
  {
   "cell_type": "code",
   "execution_count": 1,
   "metadata": {},
   "outputs": [
    {
     "name": "stdout",
     "output_type": "stream",
     "text": [
      "파일 복사가 완료되었습니다!\n"
     ]
    }
   ],
   "source": [
    "import os\n",
    "import random\n",
    "import shutil\n",
    "\n",
    "# 원본 폴더 경로와 대상 폴더 경로\n",
    "source_dir = r\"C:\\UnivStudy\\UnivLectures\\24-2\\인공지능기초\\과제\\텀프로젝트\\후지라벨링모음\"\n",
    "target_dir = r\"C:\\UnivStudy\\UnivLectures\\24-2\\인공지능기초\\과제\\텀프로젝트\\ML\\JSON2\"\n",
    "\n",
    "# 등급별 폴더 이름\n",
    "grades = [\"당도A등급\", \"당도B등급\", \"당도C등급\"]\n",
    "sample_size = 3000  # 각 등급에서 선택할 파일 수\n",
    "\n",
    "# 대상 폴더 생성\n",
    "os.makedirs(target_dir, exist_ok=True)\n",
    "\n",
    "# 각 등급 폴더에서 JSON 파일을 선택하고 복사\n",
    "for grade in grades:\n",
    "    grade_dir = os.path.join(source_dir, grade)\n",
    "    if not os.path.exists(grade_dir):\n",
    "        print(f\"폴더가 존재하지 않습니다: {grade_dir}\")\n",
    "        continue\n",
    "\n",
    "    # 폴더 내의 모든 JSON 파일 가져오기\n",
    "    json_files = [f for f in os.listdir(grade_dir) if f.endswith(\".json\")]\n",
    "    if len(json_files) < sample_size:\n",
    "        print(f\"{grade} 폴더에 파일이 충분하지 않습니다: {len(json_files)}개\")\n",
    "        continue\n",
    "\n",
    "    # 무작위로 파일 선택\n",
    "    selected_files = random.sample(json_files, sample_size)\n",
    "\n",
    "    # 선택된 파일을 대상 폴더로 복사\n",
    "    for file_name in selected_files:\n",
    "        source_path = os.path.join(grade_dir, file_name)\n",
    "        target_path = os.path.join(target_dir, file_name)\n",
    "        shutil.copy2(source_path, target_path)\n",
    "\n",
    "print(\"파일 복사가 완료되었습니다!\")\n"
   ]
  },
  {
   "cell_type": "code",
   "execution_count": 1,
   "metadata": {},
   "outputs": [
    {
     "name": "stdout",
     "output_type": "stream",
     "text": [
      "데이터가 C:/UnivStudy/UnivLectures/24-2/인공지능기초/과제/텀프로젝트/ML/file/apple_sugar_data3.csv 파일로 저장되었습니다.\n"
     ]
    }
   ],
   "source": [
    "import os\n",
    "import json\n",
    "import pandas as pd\n",
    "\n",
    "# JSON 파일이 저장된 폴더 경로\n",
    "json_folder = \"C:/UnivStudy/UnivLectures/24-2/인공지능기초/과제/텀프로젝트/ML/JSON\" \n",
    "output_csv = \"C:/UnivStudy/UnivLectures/24-2/인공지능기초/과제/텀프로젝트/ML/file/apple_sugar_data3.csv\"\n",
    "\n",
    "# 추출할 데이터 리스트\n",
    "data_list = []\n",
    "\n",
    "# 폴더 내 모든 JSON 파일 읽기\n",
    "for filename in os.listdir(json_folder):\n",
    "    if filename.endswith(\".json\"):\n",
    "        file_path = os.path.join(json_folder, filename)\n",
    "        with open(file_path, \"r\", encoding=\"utf-8\") as file:\n",
    "            data = json.load(file)\n",
    "            \n",
    "            # 필요한 정보 추출\n",
    "            img_file_name = data.get(\"images\", {}).get(\"img_file_name\", \"\")\n",
    "            apple_kind = data.get(\"collection\", {}).get(\"apple_kind\", \"\")\n",
    "            sugar_content_nir = data.get(\"collection\", {}).get(\"sugar_content_nir\", None)\n",
    "            soil_ec = data.get(\"collection\", {}).get(\"soil_ec\", None)\n",
    "            soil_temper = data.get(\"collection\", {}).get(\"soil_temper\", None)\n",
    "            soil_humidity = data.get(\"collection\", {}).get(\"soil_humidty\", None)\n",
    "            soil_potential = data.get(\"collection\", {}).get(\"soil_potential\", None)\n",
    "            temperature = data.get(\"collection\", {}).get(\"temperature\", None)\n",
    "            humidity = data.get(\"collection\", {}).get(\"humidity\", None)\n",
    "            sunshine = data.get(\"collection\", {}).get(\"sunshine\", None)\n",
    "            sunrise_time = data.get(\"collection\", {}).get(\"sunrise_time\", \"\")\n",
    "            sunset_time = data.get(\"collection\", {}).get(\"sunset_time\", \"\")\n",
    "            sugar_grade = data.get(\"annotations\", {}).get(\"sugar_grade\", \"\")\n",
    "            \n",
    "            # 리스트에 데이터 추가\n",
    "            data_list.append({\n",
    "                \"img_file_name\": img_file_name,\n",
    "                \"apple_kind\": apple_kind,\n",
    "                \"sugar_content_nir\": sugar_content_nir,\n",
    "                \"soil_ec\": soil_ec,\n",
    "                \"soil_temper\": soil_temper,\n",
    "                \"soil_humidity\": soil_humidity,\n",
    "                \"soil_potential\": soil_potential,\n",
    "                \"temperature\": temperature,\n",
    "                \"humidity\": humidity,\n",
    "                \"sunshine\": sunshine,\n",
    "                \"sunrise_time\": sunrise_time,\n",
    "                \"sunset_time\": sunset_time,\n",
    "                \"sugar_grade\": sugar_grade\n",
    "            })\n",
    "\n",
    "# DataFrame 생성 및 CSV 파일로 저장\n",
    "df = pd.DataFrame(data_list)\n",
    "df.to_csv(output_csv, index=False, encoding=\"utf-8-sig\")\n",
    "\n",
    "print(f\"데이터가 {output_csv} 파일로 저장되었습니다.\")\n"
   ]
  },
  {
   "cell_type": "code",
   "execution_count": 2,
   "metadata": {},
   "outputs": [
    {
     "name": "stdout",
     "output_type": "stream",
     "text": [
      "일조 시간이 계산된 파일이 C:/UnivStudy/UnivLectures/24-2/인공지능기초/과제/텀프로젝트/ML/file/apple_sugar_data4.csv로 저장되었습니다.\n"
     ]
    }
   ],
   "source": [
    "import pandas as pd\n",
    "from datetime import datetime\n",
    "\n",
    "# CSV 파일 경로\n",
    "input_csv = \"C:/UnivStudy/UnivLectures/24-2/인공지능기초/과제/텀프로젝트/ML/file/apple_sugar_data3.csv\"\n",
    "output_csv = \"C:/UnivStudy/UnivLectures/24-2/인공지능기초/과제/텀프로젝트/ML/file/apple_sugar_data4.csv\"\n",
    "# CSV 읽기\n",
    "df = pd.read_csv(input_csv)\n",
    "\n",
    "# 해가 떠 있는 시간 계산 함수\n",
    "def calculate_daylight(sunset, sunrise):\n",
    "    try:\n",
    "        # 문자열을 24시간 형식의 시간으로 변환\n",
    "        sunset_time = datetime.strptime(sunset, \"%H:%M\")\n",
    "        sunrise_time = datetime.strptime(sunrise, \"%H:%M\")\n",
    "        \n",
    "        # 일조 시간 계산 (초 단위로 계산 후 시간으로 변환)\n",
    "        daylight_duration = (sunset_time - sunrise_time).seconds / 3600  # 초 -> 시간\n",
    "        return daylight_duration\n",
    "    except Exception as e:\n",
    "        print(f\"오류: {e} (sunset: {sunset}, sunrise: {sunrise})\")\n",
    "        return None\n",
    "\n",
    "# 새로운 열 추가\n",
    "df[\"daylight_hours\"] = df.apply(\n",
    "    lambda row: calculate_daylight(row[\"sunset_time\"], row[\"sunrise_time\"]), axis=1\n",
    ")\n",
    "\n",
    "# 결과를 새로운 CSV로 저장\n",
    "df.to_csv(output_csv, index=False, encoding=\"utf-8-sig\")\n",
    "\n",
    "print(f\"일조 시간이 계산된 파일이 {output_csv}로 저장되었습니다.\")\n"
   ]
  },
  {
   "cell_type": "code",
   "execution_count": 6,
   "metadata": {},
   "outputs": [],
   "source": [
    "# 필요한 패키지 로드\n",
    "import pandas as pd\n",
    "import numpy as np\n",
    "from sklearn.model_selection import train_test_split\n",
    "from sklearn.linear_model import LinearRegression\n",
    "from sklearn.metrics import confusion_matrix, classification_report, roc_auc_score, roc_curve\n",
    "import matplotlib.pyplot as plt\n",
    "from sklearn.preprocessing import LabelEncoder\n",
    "\n",
    "# 데이터 불러오기\n",
    "df = pd.read_csv(\"C:/UnivStudy/UnivLectures/24-2/인공지능기초/과제/텀프로젝트/ML/file/apple_sugar_data2.csv\")\n",
    "\n"
   ]
  },
  {
   "cell_type": "code",
   "execution_count": 3,
   "metadata": {},
   "outputs": [
    {
     "name": "stdout",
     "output_type": "stream",
     "text": [
      "                                img_file_name apple_kind  sugar_content_nir  \\\n",
      "0  20210829_RGB_09.0_F02_HJ_06_017_03_0_A.jpg         HJ                9.0   \n",
      "1  20210829_RGB_09.0_F02_HJ_08_028_03_0_A.jpg         HJ                9.0   \n",
      "2  20210829_RGB_09.0_F02_HJ_08_028_04_0_A.jpg         HJ                9.0   \n",
      "3  20210829_RGB_09.0_F03_HJ_03_001_01_0_A.jpg         HJ                9.0   \n",
      "4  20210829_RGB_09.0_F03_HJ_03_001_02_0_A.jpg         HJ                9.0   \n",
      "\n",
      "   soil_ec  soil_temper  soil_humidity  soil_potential  temperature  humidity  \\\n",
      "0     1.05        22.96          19.20            -0.1        23.47     95.55   \n",
      "1     1.05        22.96          19.20            -0.1        23.47     95.55   \n",
      "2     1.05        22.96          19.20            -0.1        23.47     95.55   \n",
      "3     1.02        21.20          29.19            -0.2        20.96     96.37   \n",
      "4     1.02        21.20          29.19            -0.2        20.96     96.37   \n",
      "\n",
      "   sunshine sunrise_time sunset_time sugar_grade  daylight_hours  \n",
      "0      25.0        05:49       19:01           C            13.2  \n",
      "1      25.0        05:49       19:01           C            13.2  \n",
      "2      25.0        05:49       19:01           C            13.2  \n",
      "3      22.0        05:49       19:01           C            13.2  \n",
      "4      22.0        05:49       19:01           C            13.2  \n"
     ]
    }
   ],
   "source": [
    "import pandas as pd\n",
    "import numpy as np\n",
    "from sklearn.model_selection import train_test_split\n",
    "from sklearn.metrics import mean_squared_error, r2_score, accuracy_score, confusion_matrix, classification_report\n",
    "import lightgbm as lgb\n",
    "from sklearn.linear_model import LinearRegression\n",
    "\n",
    "# 데이터 로드\n",
    "data_path = \"C:/UnivStudy/UnivLectures/24-2/인공지능기초/과제/텀프로젝트/ML/file/apple_sugar_data4.csv\"\n",
    "data = pd.read_csv(data_path)\n",
    "\n",
    "# 데이터 확인\n",
    "print(data.head())\n",
    "\n",
    "# 독립변수(X)와 종속변수(y) 분리\n",
    "X = data[['soil_ec', 'soil_temper', 'soil_humidity', 'soil_potential', 'temperature', 'humidity', 'sunshine', 'daylight_hours']]\n",
    "y_sugar_content = data['sugar_content_nir']\n",
    "y_sugar_grade = data['sugar_grade']\n"
   ]
  },
  {
   "cell_type": "code",
   "execution_count": 4,
   "metadata": {},
   "outputs": [
    {
     "name": "stdout",
     "output_type": "stream",
     "text": [
      "Linear Regression Results:\n",
      "MSE: 4.7877, RMSE: 2.1881, R²: 0.3479\n"
     ]
    }
   ],
   "source": [
    "# 데이터 분할\n",
    "X_train, X_test, y_train, y_test = train_test_split(X, y_sugar_content, test_size=0.2, random_state=42)\n",
    "\n",
    "# 모델 학습\n",
    "lr_model = LinearRegression()\n",
    "lr_model.fit(X_train, y_train)\n",
    "\n",
    "# 예측\n",
    "y_pred = lr_model.predict(X_test)\n",
    "\n",
    "# 평가\n",
    "mse = mean_squared_error(y_test, y_pred)\n",
    "rmse = np.sqrt(mse)\n",
    "r2 = r2_score(y_test, y_pred)\n",
    "\n",
    "print(\"Linear Regression Results:\")\n",
    "print(f\"MSE: {mse:.4f}, RMSE: {rmse:.4f}, R²: {r2:.4f}\")\n"
   ]
  },
  {
   "cell_type": "code",
   "execution_count": 6,
   "metadata": {},
   "outputs": [
    {
     "name": "stdout",
     "output_type": "stream",
     "text": [
      "[LightGBM] [Info] Auto-choosing row-wise multi-threading, the overhead of testing was 0.001484 seconds.\n",
      "You can set `force_row_wise=true` to remove the overhead.\n",
      "And if memory is not enough, you can set `force_col_wise=true`.\n",
      "[LightGBM] [Info] Total Bins 159\n",
      "[LightGBM] [Info] Number of data points in the train set: 2400, number of used features: 8\n",
      "[LightGBM] [Info] Start training from score 12.937792\n",
      "[LightGBM] [Warning] No further splits with positive gain, best gain: -inf\n",
      "Training until validation scores don't improve for 10 rounds\n",
      "[LightGBM] [Warning] No further splits with positive gain, best gain: -inf\n",
      "[LightGBM] [Warning] No further splits with positive gain, best gain: -inf\n",
      "[LightGBM] [Warning] No further splits with positive gain, best gain: -inf\n",
      "[LightGBM] [Warning] No further splits with positive gain, best gain: -inf\n",
      "[LightGBM] [Warning] No further splits with positive gain, best gain: -inf\n",
      "[LightGBM] [Warning] No further splits with positive gain, best gain: -inf\n",
      "[LightGBM] [Warning] No further splits with positive gain, best gain: -inf\n",
      "[LightGBM] [Warning] No further splits with positive gain, best gain: -inf\n",
      "[LightGBM] [Warning] No further splits with positive gain, best gain: -inf\n",
      "[LightGBM] [Warning] No further splits with positive gain, best gain: -inf\n",
      "[LightGBM] [Warning] No further splits with positive gain, best gain: -inf\n",
      "[LightGBM] [Warning] No further splits with positive gain, best gain: -inf\n",
      "[LightGBM] [Warning] No further splits with positive gain, best gain: -inf\n",
      "[LightGBM] [Warning] No further splits with positive gain, best gain: -inf\n",
      "[LightGBM] [Warning] No further splits with positive gain, best gain: -inf\n",
      "[LightGBM] [Warning] No further splits with positive gain, best gain: -inf\n",
      "[LightGBM] [Warning] No further splits with positive gain, best gain: -inf\n",
      "[LightGBM] [Warning] No further splits with positive gain, best gain: -inf\n",
      "[LightGBM] [Warning] No further splits with positive gain, best gain: -inf\n",
      "[LightGBM] [Warning] No further splits with positive gain, best gain: -inf\n",
      "[LightGBM] [Warning] No further splits with positive gain, best gain: -inf\n",
      "[LightGBM] [Warning] No further splits with positive gain, best gain: -inf\n",
      "[LightGBM] [Warning] No further splits with positive gain, best gain: -inf\n",
      "[LightGBM] [Warning] No further splits with positive gain, best gain: -inf\n",
      "[LightGBM] [Warning] No further splits with positive gain, best gain: -inf\n",
      "[LightGBM] [Warning] No further splits with positive gain, best gain: -inf\n",
      "[LightGBM] [Warning] No further splits with positive gain, best gain: -inf\n",
      "[LightGBM] [Warning] No further splits with positive gain, best gain: -inf\n",
      "[LightGBM] [Warning] No further splits with positive gain, best gain: -inf\n",
      "[LightGBM] [Warning] No further splits with positive gain, best gain: -inf\n",
      "[LightGBM] [Warning] No further splits with positive gain, best gain: -inf\n",
      "[LightGBM] [Warning] No further splits with positive gain, best gain: -inf\n",
      "[LightGBM] [Warning] No further splits with positive gain, best gain: -inf\n",
      "[LightGBM] [Warning] No further splits with positive gain, best gain: -inf\n",
      "[LightGBM] [Warning] No further splits with positive gain, best gain: -inf\n",
      "[LightGBM] [Warning] No further splits with positive gain, best gain: -inf\n",
      "[LightGBM] [Warning] No further splits with positive gain, best gain: -inf\n",
      "[LightGBM] [Warning] No further splits with positive gain, best gain: -inf\n",
      "[LightGBM] [Warning] No further splits with positive gain, best gain: -inf\n",
      "[LightGBM] [Warning] No further splits with positive gain, best gain: -inf\n",
      "[LightGBM] [Warning] No further splits with positive gain, best gain: -inf\n",
      "[LightGBM] [Warning] No further splits with positive gain, best gain: -inf\n",
      "[LightGBM] [Warning] No further splits with positive gain, best gain: -inf\n",
      "[LightGBM] [Warning] No further splits with positive gain, best gain: -inf\n",
      "[LightGBM] [Warning] No further splits with positive gain, best gain: -inf\n",
      "[LightGBM] [Warning] No further splits with positive gain, best gain: -inf\n",
      "[LightGBM] [Warning] No further splits with positive gain, best gain: -inf\n",
      "[LightGBM] [Warning] No further splits with positive gain, best gain: -inf\n",
      "[LightGBM] [Warning] No further splits with positive gain, best gain: -inf\n",
      "[LightGBM] [Warning] No further splits with positive gain, best gain: -inf\n",
      "Early stopping, best iteration is:\n",
      "[41]\ttraining's rmse: 1.9102\tvalid_1's rmse: 1.93283\n",
      "LightGBM Regression Results:\n",
      "MSE: 3.7359, RMSE: 1.9328, R²: 0.4912\n"
     ]
    }
   ],
   "source": [
    "# LightGBM 데이터셋 준비\n",
    "lgb_train = lgb.Dataset(X_train, label=y_train)\n",
    "lgb_test = lgb.Dataset(X_test, label=y_test, reference=lgb_train)\n",
    "\n",
    "# 하이퍼파라미터 설정\n",
    "params = {\n",
    "    'objective': 'regression',\n",
    "    'metric': 'rmse',\n",
    "    'boosting_type': 'gbdt',\n",
    "    'learning_rate': 0.1,\n",
    "    'num_leaves': 31,\n",
    "    'max_depth': -1,\n",
    "    'early_stopping_round': 10\n",
    "}\n",
    "\n",
    "# 모델 학습\n",
    "lgbm_regressor = lgb.train(params, lgb_train, num_boost_round=100, valid_sets=[lgb_train, lgb_test])\n",
    "\n",
    "# 예측\n",
    "y_pred_lgbm = lgbm_regressor.predict(X_test)\n",
    "\n",
    "# 평가\n",
    "mse_lgbm = mean_squared_error(y_test, y_pred_lgbm)\n",
    "rmse_lgbm = np.sqrt(mse_lgbm)\n",
    "r2_lgbm = r2_score(y_test, y_pred_lgbm)\n",
    "\n",
    "print(\"LightGBM Regression Results:\")\n",
    "print(f\"MSE: {mse_lgbm:.4f}, RMSE: {rmse_lgbm:.4f}, R²: {r2_lgbm:.4f}\")\n"
   ]
  },
  {
   "cell_type": "code",
   "execution_count": 18,
   "metadata": {},
   "outputs": [
    {
     "name": "stdout",
     "output_type": "stream",
     "text": [
      "LightGBM Classification Results:\n",
      "Accuracy: 0.8650\n",
      "Confusion Matrix:\n",
      " [[153   0  44]\n",
      " [  0 186   0]\n",
      " [ 37   0 180]]\n",
      "Classification Report:\n",
      "               precision    recall  f1-score   support\n",
      "\n",
      "           0       0.81      0.78      0.79       197\n",
      "           1       1.00      1.00      1.00       186\n",
      "           2       0.80      0.83      0.82       217\n",
      "\n",
      "    accuracy                           0.86       600\n",
      "   macro avg       0.87      0.87      0.87       600\n",
      "weighted avg       0.87      0.86      0.86       600\n",
      "\n"
     ]
    },
    {
     "data": {
      "image/png": "[encoded data removed]",
      "text/plain": [
       "<Figure size 800x600 with 2 Axes>"
      ]
     },
     "metadata": {},
     "output_type": "display_data"
    },
    {
     "name": "stdout",
     "output_type": "stream",
     "text": [
      "\n",
      "Classification Report as DataFrame:\n",
      "  Class  Precision  Recall  F1-Score  Support\n",
      "0     0       0.81    0.78      0.79      197\n",
      "1     1       1.00    1.00      1.00      186\n",
      "2     2       0.80    0.83      0.82      217\n"
     ]
    },
    {
     "data": {
      "image/png": "[encoded data removed]",
      "text/plain": [
       "<Figure size 800x600 with 1 Axes>"
      ]
     },
     "metadata": {},
     "output_type": "display_data"
    }
   ],
   "source": [
    "import matplotlib.pyplot as plt\n",
    "import seaborn as sns\n",
    "\n",
    "# Assuming accuracy, conf_matrix, and report are defined in previous cells\n",
    "# LightGBM 결과 출력\n",
    "print(\"LightGBM Classification Results:\")\n",
    "print(f\"Accuracy: {accuracy:.4f}\")\n",
    "print(\"Confusion Matrix:\\n\", conf_matrix)\n",
    "print(\"Classification Report:\\n\", report)\n",
    "\n",
    "# 혼동 행렬 시각화\n",
    "def plot_confusion_matrix(conf_matrix, classes, title='Confusion Matrix'):\n",
    "    plt.figure(figsize=(8, 6))\n",
    "    sns.heatmap(conf_matrix, annot=True, fmt='d', cmap='Blues', xticklabels=classes, yticklabels=classes)\n",
    "    plt.title(title)\n",
    "    plt.ylabel('True Label')\n",
    "    plt.xlabel('Predicted Label')\n",
    "    plt.tight_layout()\n",
    "    plt.show()\n",
    "\n",
    "# 클래스 이름 설정 (A, B, C로 디코딩)\n",
    "classes = label_encoder.classes_\n",
    "\n",
    "# 혼동 행렬 시각화\n",
    "plot_confusion_matrix(conf_matrix, classes, title='Confusion Matrix (LightGBM Classifier)')\n",
    "\n",
    "# 리포트 결과를 데이터프레임으로 변환\n",
    "def classification_report_to_df(report_text):\n",
    "    report_data = []\n",
    "    lines = report_text.split('\\n')\n",
    "    for line in lines[2:-3]:  # 실제 필요한 부분만 가져오기\n",
    "        row = line.split()\n",
    "        if len(row) == 5:  # Ensure the row has enough elements\n",
    "            report_data.append({\n",
    "                'Class': row[0],\n",
    "                'Precision': float(row[1]),\n",
    "                'Recall': float(row[2]),\n",
    "                'F1-Score': float(row[3]),\n",
    "                'Support': int(row[4])\n",
    "            })\n",
    "    return pd.DataFrame(report_data)\n",
    "\n",
    "# 리포트를 DataFrame으로 변환 및 시각화\n",
    "report_df = classification_report_to_df(report)\n",
    "print(\"\\nClassification Report as DataFrame:\")\n",
    "print(report_df)\n",
    "\n",
    "# F1-Score 시각화\n",
    "plt.figure(figsize=(8, 6))\n",
    "sns.barplot(x='Class', y='F1-Score', data=report_df, palette='viridis')\n",
    "plt.title('F1-Score per Class')\n",
    "plt.ylabel('F1-Score')\n",
    "plt.xlabel('Class')\n",
    "plt.tight_layout()\n",
    "plt.show()\n"
   ]
  },
  {
   "cell_type": "code",
   "execution_count": 11,
   "metadata": {},
   "outputs": [
    {
     "name": "stdout",
     "output_type": "stream",
     "text": [
      "Feature Importances:\n",
      "          Feature    Importance\n",
      "7  daylight_hours  25489.180408\n",
      "1     soil_temper   6719.475577\n",
      "5        humidity   6583.434769\n",
      "3  soil_potential   5086.891103\n",
      "2   soil_humidity   2734.190077\n",
      "0         soil_ec    180.084341\n",
      "6        sunshine      0.874310\n",
      "4     temperature      0.579605\n"
     ]
    },
    {
     "data": {
      "image/png": "[encoded data removed]",
      "text/plain": [
       "<Figure size 1000x600 with 1 Axes>"
      ]
     },
     "metadata": {},
     "output_type": "display_data"
    }
   ],
   "source": [
    "import matplotlib.pyplot as plt\n",
    "import seaborn as sns\n",
    "\n",
    "# Feature Importance 계산\n",
    "feature_importances = lgbm_regressor.feature_importance(importance_type='gain')\n",
    "feature_names = X.columns\n",
    "\n",
    "# 중요도를 DataFrame으로 정리\n",
    "importance_df = pd.DataFrame({\n",
    "    'Feature': feature_names,\n",
    "    'Importance': feature_importances\n",
    "}).sort_values(by='Importance', ascending=False)\n",
    "\n",
    "# 중요도 출력\n",
    "print(\"Feature Importances:\")\n",
    "print(importance_df)\n",
    "\n",
    "# 중요도 시각화\n",
    "plt.figure(figsize=(10, 6))\n",
    "sns.barplot(x='Importance', y='Feature', data=importance_df, palette='viridis')\n",
    "plt.title('Feature Importance (LightGBM Regression)')\n",
    "plt.xlabel('Importance')\n",
    "plt.ylabel('Feature')\n",
    "plt.tight_layout()\n",
    "plt.show()\n"
   ]
  },
  {
   "cell_type": "code",
   "execution_count": 16,
   "metadata": {},
   "outputs": [
    {
     "name": "stdout",
     "output_type": "stream",
     "text": [
      "Optimal Initial Values for High Sugar Content:\n",
      "daylight_hours: Mean = 12.92, Range = (12.60, 13.20)\n",
      "soil_temper: Mean = 20.43, Range = (17.84, 22.96)\n",
      "humidity: Mean = 90.56, Range = (68.79, 99.99)\n",
      "soil_potential: Mean = -1.53, Range = (-9.80, -0.10)\n",
      "soil_humidity: Mean = 25.05, Range = (9.69, 64.40)\n",
      "soil_ec: Mean = 0.99, Range = (0.09, 2.40)\n",
      "sunshine: Mean = 177.95, Range = (3.00, 526.00)\n",
      "temperature: Mean = 21.13, Range = (17.78, 27.72)\n"
     ]
    }
   ],
   "source": [
    "# 당도가 높은 데이터를 기준으로 초기값 범위 설정\n",
    "high_sugar_data = data[data['sugar_content_nir'] > data['sugar_content_nir'].quantile(0.75)]\n",
    "\n",
    "# 중요한 변수 상위 3개 추출\n",
    "top_features = importance_df['Feature'].head(8).tolist()\n",
    "\n",
    "# 각 변수의 평균 및 범위 계산\n",
    "optimal_values = {}\n",
    "for feature in top_features:\n",
    "    mean_value = high_sugar_data[feature].mean()\n",
    "    min_value = high_sugar_data[feature].min()\n",
    "    max_value = high_sugar_data[feature].max()\n",
    "    optimal_values[feature] = {\n",
    "        'Mean': mean_value,\n",
    "        'Min': min_value,\n",
    "        'Max': max_value\n",
    "    }\n",
    "\n",
    "# 최적 초기값 출력\n",
    "print(\"Optimal Initial Values for High Sugar Content:\")\n",
    "for feature, stats in optimal_values.items():\n",
    "    print(f\"{feature}: Mean = {stats['Mean']:.2f}, Range = ({stats['Min']:.2f}, {stats['Max']:.2f})\")\n"
   ]
  }
 ],
 "metadata": {
  "kernelspec": {
   "display_name": "base",
   "language": "python",
   "name": "python3"
  },
  "language_info": {
   "codemirror_mode": {
    "name": "ipython",
    "version": 3
   },
   "file_extension": ".py",
   "mimetype": "text/x-python",
   "name": "python",
   "nbconvert_exporter": "python",
   "pygments_lexer": "ipython3",
   "version": "3.11.5"
  }
 },
 "nbformat": 4,
 "nbformat_minor": 2
}
